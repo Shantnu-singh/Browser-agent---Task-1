{
 "cells": [
  {
   "cell_type": "code",
   "execution_count": 6,
   "metadata": {},
   "outputs": [
    {
     "name": "stdout",
     "output_type": "stream",
     "text": [
      "\n",
      "{\n",
      "  \"webpages\": [\"https://www.irena.org/\", \"https://www.seia.org/\", \"https://www.iea.org/\"],\n",
      "  \"youtube\": \"https://www.youtube.com/results?search_query=latest+trends+in+renewable+energy\"\n",
      "}\n",
      "\n"
     ]
    }
   ],
   "source": [
    "import ast\n",
    "\n",
    "# Example response string\n",
    "response = ```python\n",
    "{\n",
    "  \"webpages\": [\"https://www.irena.org/\", \"https://www.seia.org/\", \"https://www.eia.gov/energyexplained/renewable-sources/\"],\n",
    "  \"youtube\": \"https://www.youtube.com/results?search_query=latest+trends+in+renewable+energy\"\n",
    "}\n",
    "```\n",
    "\n",
    "# Convert the string to a Python dictionary\n",
    "# data = ast.literal_eval(response.strip())  # .strip() removes any leading/trailing whitespace\n",
    "\n",
    "# print()\n",
    "# print(type(data))  # Output: <class 'dict'>\n",
    "print(response.replace('python' , \"\"))"
   ]
  },
  {
   "cell_type": "code",
   "execution_count": null,
   "metadata": {},
   "outputs": [],
   "source": []
  }
 ],
 "metadata": {
  "kernelspec": {
   "display_name": "Python 3",
   "language": "python",
   "name": "python3"
  },
  "language_info": {
   "codemirror_mode": {
    "name": "ipython",
    "version": 3
   },
   "file_extension": ".py",
   "mimetype": "text/x-python",
   "name": "python",
   "nbconvert_exporter": "python",
   "pygments_lexer": "ipython3",
   "version": "3.12.2"
  }
 },
 "nbformat": 4,
 "nbformat_minor": 2
}
